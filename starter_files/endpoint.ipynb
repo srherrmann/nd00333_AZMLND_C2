{
 "cells": [
  {
   "cell_type": "code",
   "execution_count": 1,
   "metadata": {
    "scrolled": true
   },
   "outputs": [
    {
     "name": "stdout",
     "output_type": "stream",
     "text": [
      "{'Results': ['yes', 'no']}\n"
     ]
    }
   ],
   "source": [
    "import requests\n",
    "import json\n",
    "\n",
    "# URL for the web service, should be similar to:\n",
    "# 'http://8530a665-66f3-49c8-a953-b82a2d312917.eastus.azurecontainer.io/score'\n",
    "scoring_uri = 'http://c602dfc5-704b-44f3-a9fd-9b64d9618380.germanywestcentral.azurecontainer.io/score'\n",
    "# If the service is authenticated, set the key or token\n",
    "key = '1TpQXBrhU2bucHTgfsAtLHjOiiSNfOFB'\n",
    "\n",
    "# Two sets of data to score, so we get two results back\n",
    "data = {\n",
    "    \"Inputs\": {\n",
    "        \"data\":\n",
    "        [\n",
    "          {\n",
    "            \"age\": 17,\n",
    "            \"campaign\": 1,\n",
    "            \"cons.conf.idx\": -46.2,\n",
    "            \"cons.price.idx\": 92.893,\n",
    "            \"contact\": \"cellular\",\n",
    "            \"day_of_week\": \"mon\",\n",
    "            \"default\": \"no\",\n",
    "            \"duration\": 971,\n",
    "            \"education\": \"university.degree\",\n",
    "            \"emp.var.rate\": -1.8,\n",
    "            \"euribor3m\": 1.299,\n",
    "            \"housing\": \"yes\",\n",
    "            \"job\": \"blue-collar\",\n",
    "            \"loan\": \"yes\",\n",
    "            \"marital\": \"married\",\n",
    "            \"month\": \"may\",\n",
    "            \"nr.employed\": 5099.1,\n",
    "            \"pdays\": 999,\n",
    "            \"poutcome\": \"failure\",\n",
    "            \"previous\": 1\n",
    "          },\n",
    "          {\n",
    "            \"age\": 87,\n",
    "            \"campaign\": 1,\n",
    "            \"cons.conf.idx\": -46.2,\n",
    "            \"cons.price.idx\": 92.893,\n",
    "            \"contact\": \"cellular\",\n",
    "            \"day_of_week\": \"mon\",\n",
    "            \"default\": \"no\",\n",
    "            \"duration\": 471,\n",
    "            \"education\": \"university.degree\",\n",
    "            \"emp.var.rate\": -1.8,\n",
    "            \"euribor3m\": 1.299,\n",
    "            \"housing\": \"yes\",\n",
    "            \"job\": \"blue-collar\",\n",
    "            \"loan\": \"yes\",\n",
    "            \"marital\": \"married\",\n",
    "            \"month\": \"may\",\n",
    "            \"nr.employed\": 5099.1,\n",
    "            \"pdays\": 999,\n",
    "            \"poutcome\": \"failure\",\n",
    "            \"previous\": 1\n",
    "          },\n",
    "      ]\n",
    "    }\n",
    "    }\n",
    "# Convert to JSON string\n",
    "input_data = json.dumps(data)\n",
    "with open(\"data.json\", \"w\") as _f:\n",
    "    _f.write(input_data)\n",
    "\n",
    "# Set the content type\n",
    "headers = {'Content-Type': 'application/json'}\n",
    "# If authentication is enabled, set the authorization header\n",
    "headers['Authorization'] = f'Bearer {key}'\n",
    "\n",
    "# Make the request and display the response\n",
    "resp = requests.post(scoring_uri, input_data, headers=headers)\n",
    "print(resp.json())\n",
    "\n",
    "\n"
   ]
  },
  {
   "cell_type": "code",
   "execution_count": null,
   "metadata": {},
   "outputs": [],
   "source": []
  }
 ],
 "metadata": {
  "kernelspec": {
   "display_name": "Python 3",
   "language": "python",
   "name": "python3"
  },
  "language_info": {
   "codemirror_mode": {
    "name": "ipython",
    "version": 3
   },
   "file_extension": ".py",
   "mimetype": "text/x-python",
   "name": "python",
   "nbconvert_exporter": "python",
   "pygments_lexer": "ipython3",
   "version": "3.11.9"
  }
 },
 "nbformat": 4,
 "nbformat_minor": 4
}
